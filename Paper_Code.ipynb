{
 "cells": [
  {
   "cell_type": "code",
   "execution_count": null,
   "id": "5149e3f8",
   "metadata": {},
   "outputs": [],
   "source": [
    "import tensorflow as tf\n",
    "from tensorflow import keras\n",
    "from keras.layers import Input, Lambda, Dense, Flatten, Dropout, GlobalAveragePooling2D\n",
    "from keras.models import Model\n",
    "from keras.models import load_model\n",
    "from keras.callbacks import CSVLogger\n",
    "from keras.applications.densenet import DenseNet169\n",
    "from keras.applications.densenet import preprocess_input\n",
    "from keras.preprocessing import image\n",
    "from keras.preprocessing.image import ImageDataGenerator\n",
    "from keras.models import Sequential\n",
    "import numpy as np\n",
    "from glob import glob\n",
    "import matplotlib.pyplot as plt\n",
    "from sklearn.metrics import classification_report, confusion_matrix, log_loss, roc_auc_score\n",
    "from mlxtend.plotting import plot_confusion_matrix\n",
    "from pickle import load"
   ]
  },
  {
   "cell_type": "code",
   "execution_count": null,
   "id": "4737e514",
   "metadata": {},
   "outputs": [],
   "source": [
    "IMAGE_SIZE = [224, 224]\n",
    "train_path = '../input/final-dataset-28/Mushroom_Classification_28/train'\n",
    "val_path = '../input/final-dataset-28/Mushroom_Classification_28/val'\n",
    "test_path = '../input/final-dataset-28/Mushroom_Classification_28/test'"
   ]
  },
  {
   "cell_type": "code",
   "execution_count": null,
   "id": "c5c0e4b6",
   "metadata": {},
   "outputs": [],
   "source": [
    "model = Sequential()\n",
    "\n",
    "pretrained_model= tf.keras.applications.DenseNet169(include_top=False,\n",
    "                   input_shape=(224,224,3),\n",
    "                   pooling='avg',classes=3,\n",
    "                   weights='imagenet')\n",
    "\n",
    "for layer in pretrained_model.layers:\n",
    "        layer.trainable=False\n",
    "\n",
    "model.add(pretrained_model)\n",
    "model.add(Flatten())\n",
    "model.add(Dense(4096, activation='relu'))\n",
    "model.add(Dense(2048, activation='relu'))\n",
    "model.add(Dense(1024, activation='relu'))\n",
    "model.add(Dense(512, activation='relu'))\n",
    "model.add(Dense(256, activation='relu'))\n",
    "model.add(Dense(128, activation='relu'))\n",
    "model.add(Dense(64, activation='relu'))\n",
    "model.add(Dense(32, activation='relu'))\n",
    "model.add(Dense(3, activation='softmax'))"
   ]
  },
  {
   "cell_type": "code",
   "execution_count": null,
   "id": "749999af",
   "metadata": {},
   "outputs": [],
   "source": [
    "model.compile(\n",
    "  loss='categorical_crossentropy',\n",
    "  optimizer=tf.keras.optimizers.Adam(learning_rate=0.0001),\n",
    "  metrics=['accuracy']\n",
    ")"
   ]
  },
  {
   "cell_type": "code",
   "execution_count": null,
   "id": "40907367",
   "metadata": {},
   "outputs": [],
   "source": [
    "csv_logger = CSVLogger('/kaggle/working/densenet169_results.csv')"
   ]
  },
  {
   "cell_type": "code",
   "execution_count": null,
   "id": "17642ec5",
   "metadata": {},
   "outputs": [],
   "source": [
    "from keras.preprocessing.image import ImageDataGenerator\n",
    "\n",
    "train_datagen = ImageDataGenerator(\n",
    "    rescale = 1./255,\n",
    "    rotation_range=40,\n",
    "    shear_range=0.2,\n",
    "    zoom_range=0.2,\n",
    "    horizontal_flip=True)\n",
    "\n",
    "val_datagen = ImageDataGenerator(\n",
    "    rescale = 1./255)\n",
    "   \n",
    "test_datagen = ImageDataGenerator(\n",
    "    rescale = 1./255)\n",
    "\n",
    "train_set = train_datagen.flow_from_directory(train_path,\n",
    "                                              target_size = (224, 224),\n",
    "                                              batch_size = 32,\n",
    "                                              class_mode = 'categorical',\n",
    "                                              shuffle=True)\n",
    "\n",
    "val_set = val_datagen.flow_from_directory(val_path,\n",
    "                                          target_size = (224, 224),\n",
    "                                          batch_size = 32,\n",
    "                                          class_mode = 'categorical',\n",
    "                                          shuffle=True)\n",
    "\n",
    "test_set = test_datagen.flow_from_directory(test_path,\n",
    "                                            target_size = (224, 224),\n",
    "                                            batch_size = 1,\n",
    "                                            class_mode = 'categorical',\n",
    "                                            shuffle=False)"
   ]
  },
  {
   "cell_type": "code",
   "execution_count": null,
   "id": "29a01958",
   "metadata": {},
   "outputs": [],
   "source": [
    "STEPS_PER_EPOCH = train_set.n//train_set.batch_size\n",
    "VALIDATION_STEPS = val_set.n//val_set.batch_size"
   ]
  },
  {
   "cell_type": "code",
   "execution_count": null,
   "id": "3ff528a3",
   "metadata": {},
   "outputs": [],
   "source": [
    "r = model.fit_generator(\n",
    "  train_set,\n",
    "  validation_data=val_set,\n",
    "  epochs=100,\n",
    "  steps_per_epoch=STEPS_PER_EPOCH,\n",
    "  validation_steps=VALIDATION_STEPS,\n",
    "  verbose=1,\n",
    "  callbacks=[csv_logger])"
   ]
  },
  {
   "cell_type": "code",
   "execution_count": null,
   "id": "a20a7c66",
   "metadata": {},
   "outputs": [],
   "source": [
    "test_loss, test_acc = model.evaluate(test_set, verbose=1)"
   ]
  },
  {
   "cell_type": "code",
   "execution_count": null,
   "id": "de0d8dfc",
   "metadata": {},
   "outputs": [],
   "source": [
    "num_of_test_samples = test_set.n\n",
    "batch_size = test_set.batch_size\n",
    "\n",
    "Y_pred = model.predict_generator(test_set, num_of_test_samples // batch_size+1)\n",
    "y_pred = np.argmax(Y_pred, axis=1)\n",
    "conf_matrix = confusion_matrix(test_set.classes, y_pred)\n",
    "cm = np.array2string(conf_matrix)\n",
    "fig, ax = plot_confusion_matrix(conf_mat=conf_matrix)\n",
    "ax.set_title('Confusion Matrix\\n');\n",
    "plt.show()"
   ]
  },
  {
   "cell_type": "code",
   "execution_count": null,
   "id": "fc1c91aa",
   "metadata": {},
   "outputs": [],
   "source": [
    "print('Classification Report')\n",
    "target_names = ['Edible','Inedible','Poisonous']\n",
    "class_report = classification_report(test_set.classes, y_pred, target_names=target_names)\n",
    "print(class_report)"
   ]
  },
  {
   "cell_type": "code",
   "execution_count": null,
   "id": "2ec73502",
   "metadata": {},
   "outputs": [],
   "source": [
    "print('Log Loss')\n",
    "l_loss = log_loss(test_set.classes, Y_pred)\n",
    "print(l_loss)"
   ]
  },
  {
   "cell_type": "code",
   "execution_count": null,
   "id": "ef09d2f3",
   "metadata": {},
   "outputs": [],
   "source": [
    "print('ROC AUC Score')\n",
    "r_a_score = roc_auc_score(test_set.classes, Y_pred, multi_class='ovr')\n",
    "print(r_a_score)"
   ]
  },
  {
   "cell_type": "code",
   "execution_count": null,
   "id": "418a0260",
   "metadata": {},
   "outputs": [],
   "source": [
    "model.save('/kaggle/working/DenseNet169.h5')"
   ]
  },
  {
   "cell_type": "code",
   "execution_count": null,
   "id": "2b32ed49",
   "metadata": {},
   "outputs": [],
   "source": [
    "DenseNet169 = load_model('/kaggle/working/DenseNet169.h5')"
   ]
  },
  {
   "cell_type": "code",
   "execution_count": null,
   "id": "f1dee1d0",
   "metadata": {},
   "outputs": [],
   "source": [
    "from keras.preprocessing import image\n",
    "import os\n",
    "from os import listdir\n",
    "\n",
    "folder_dir = \"../input/final-test-data/Test_Data/Inedible\"\n",
    "for images in os.listdir(folder_dir):\n",
    "    if (images.endswith(\".jpg\")):\n",
    "        im = plt.imread(\"../input/final-test-data/Test_Data/Inedible/\"+images)\n",
    "        plt.imshow(im)\n",
    "        plt.show()\n",
    "        output=[]\n",
    "        img = image.load_img(os.path.join(\"../input/final-test-data/Test_Data/Inedible\",images),target_size=(224,224))\n",
    "        img = np.asarray(img)\n",
    "        img = np.expand_dims(img, axis=0)\n",
    "        output = model.predict(img)\n",
    "    \n",
    "        if output[0][0] > output[0][1] and output[0][0] > output[0][2]:\n",
    "            print(\"Edible\")\n",
    "        elif output[0][1] > output[0][0] and output[0][1] > output[0][2]:\n",
    "            print('Inedible')\n",
    "        elif output[0][2] > output[0][0] and output[0][2] > output[0][1]:\n",
    "            print('Poisonous')"
   ]
  }
 ],
 "metadata": {
  "kernelspec": {
   "display_name": "Python 3 (ipykernel)",
   "language": "python",
   "name": "python3"
  },
  "language_info": {
   "codemirror_mode": {
    "name": "ipython",
    "version": 3
   },
   "file_extension": ".py",
   "mimetype": "text/x-python",
   "name": "python",
   "nbconvert_exporter": "python",
   "pygments_lexer": "ipython3",
   "version": "3.9.12"
  }
 },
 "nbformat": 4,
 "nbformat_minor": 5
}
